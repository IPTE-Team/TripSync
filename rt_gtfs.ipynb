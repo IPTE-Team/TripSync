{
 "cells": [
  {
   "cell_type": "markdown",
   "id": "e46201bf-dead-4b0f-b41d-cde9be29a63a",
   "metadata": {},
   "source": [
    "# Realtime GTFS\n",
    "\n",
    "Requesting realtime gtfs data from LADOT (Los Angeles Department of Transportation)."
   ]
  },
  {
   "cell_type": "markdown",
   "id": "6f9406ed-47cd-4fe3-b11f-8be9c4076525",
   "metadata": {},
   "source": [
    "## Imports"
   ]
  },
  {
   "cell_type": "code",
   "execution_count": 4,
   "id": "b2bbc05e-d468-48a3-a693-fae5ec2dec02",
   "metadata": {},
   "outputs": [],
   "source": [
    "#!pip install protobuf==3.20.*"
   ]
  },
  {
   "cell_type": "code",
   "execution_count": 3,
   "id": "f77d2113-c242-41b3-8b0c-3b8e709c540c",
   "metadata": {},
   "outputs": [],
   "source": [
    "from google.transit import gtfs_realtime_pb2\n",
    "import requests"
   ]
  },
  {
   "cell_type": "markdown",
   "id": "8d669e14-a81f-4274-9454-2594d5e12f2d",
   "metadata": {},
   "source": [
    "## Urls\n",
    "\n",
    "Urls from LADOT, we are specifically intereseted in the vehicle positions."
   ]
  },
  {
   "cell_type": "code",
   "execution_count": 32,
   "id": "a4aa2750-8028-40a2-9d67-eeb863500e3d",
   "metadata": {},
   "outputs": [],
   "source": [
    "# gtfs_schedule_url = \"https://ladotbus.com/gtfs\"\n",
    "ladot_vehicle_positions_url = \"https://ladotbus.com/gtfs-rt/vehiclepositions\"\n",
    "#ladot_service_alerts_url = \"https://ladotbus.com/gtfs-rt/alerts\"\n",
    "#ladot_trip_updates_url = \"https://ladotbus.com/gtfs-rt/tripupdates\""
   ]
  },
  {
   "cell_type": "markdown",
   "id": "2c840863-4e31-4d06-98d7-c5bd42ffee9b",
   "metadata": {},
   "source": [
    "## Request\n",
    "\n",
    "We will download a GTFS-realtime data feed from our URL, parsing it as a FeedMessage (the root type of the GTFS-realtime schema), and iterating over the results.\n",
    "\n",
    "Code snippet from [Google Transit APIs](https://developers.google.com/transit/gtfs-realtime/examples/python-sample)\n",
    "\n",
    "[Feed entity datetype](https://developers.google.com/transit/gtfs-realtime/guides/feed-entities)"
   ]
  },
  {
   "cell_type": "code",
   "execution_count": 38,
   "id": "0d1f70b0-3f3e-421c-b63e-9a58a00854cb",
   "metadata": {},
   "outputs": [
    {
     "name": "stdout",
     "output_type": "stream",
     "text": [
      "vehicle_6771\n",
      "vehicle_6454\n",
      "vehicle_6449\n",
      "vehicle_3805\n",
      "vehicle_4386\n",
      "vehicle_324\n",
      "vehicle_1631\n",
      "vehicle_708\n",
      "vehicle_1641\n",
      "vehicle_1143\n",
      "vehicle_6242\n",
      "vehicle_6238\n",
      "vehicle_6227\n",
      "vehicle_5810\n"
     ]
    }
   ],
   "source": [
    "feed = gtfs_realtime_pb2.FeedMessage()\n",
    "response = requests.get(ladot_vehicle_positions_url)\n",
    "feed.ParseFromString(response.content)\n",
    "for entity in feed.entity:\n",
    "    if entity.HasField('id'):\n",
    "        print(entity.id)"
   ]
  },
  {
   "cell_type": "code",
   "execution_count": 41,
   "id": "462165c6-1881-4a26-9f3b-7df775f52f04",
   "metadata": {},
   "outputs": [
    {
     "data": {
      "text/plain": [
       "id: \"vehicle_6771\"\n",
       "vehicle {\n",
       "  trip {\n",
       "    trip_id: \"30-N-wZH7vIqkW\"\n",
       "    start_time: \"20:15:00\"\n",
       "    start_date: \"20220605\"\n",
       "    direction_id: 1\n",
       "  }\n",
       "  position {\n",
       "    latitude: 34.09903335571289\n",
       "    longitude: -118.29171752929688\n",
       "    bearing: 359.7364196777344\n",
       "    speed: 0.0\n",
       "  }\n",
       "  timestamp: 1654487062\n",
       "  vehicle {\n",
       "    id: \"6771\"\n",
       "    label: \"15344\"\n",
       "  }\n",
       "  occupancy_status: EMPTY\n",
       "}"
      ]
     },
     "execution_count": 41,
     "metadata": {},
     "output_type": "execute_result"
    }
   ],
   "source": [
    "entity1 = feed.entity[0]"
   ]
  },
  {
   "cell_type": "code",
   "execution_count": null,
   "id": "71473bb8-765a-416a-9dbf-b9b14c84fcc8",
   "metadata": {},
   "outputs": [],
   "source": []
  },
  {
   "cell_type": "code",
   "execution_count": null,
   "id": "05e5ddbb-a294-4828-af89-ae1884366399",
   "metadata": {},
   "outputs": [],
   "source": []
  }
 ],
 "metadata": {
  "kernelspec": {
   "display_name": "venv",
   "language": "python",
   "name": "venv"
  },
  "language_info": {
   "codemirror_mode": {
    "name": "ipython",
    "version": 3
   },
   "file_extension": ".py",
   "mimetype": "text/x-python",
   "name": "python",
   "nbconvert_exporter": "python",
   "pygments_lexer": "ipython3",
   "version": "3.8.12"
  }
 },
 "nbformat": 4,
 "nbformat_minor": 5
}
