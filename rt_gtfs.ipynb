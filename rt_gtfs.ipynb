{
 "cells": [
  {
   "cell_type": "markdown",
   "id": "e46201bf-dead-4b0f-b41d-cde9be29a63a",
   "metadata": {},
   "source": [
    "# Realtime GTFS\n",
    "\n",
    "Requesting realtime gtfs data from LADOT (Los Angeles Department of Transportation)."
   ]
  },
  {
   "cell_type": "markdown",
   "id": "6f9406ed-47cd-4fe3-b11f-8be9c4076525",
   "metadata": {},
   "source": [
    "## Imports"
   ]
  },
  {
   "cell_type": "code",
   "execution_count": 1,
   "id": "f77d2113-c242-41b3-8b0c-3b8e709c540c",
   "metadata": {},
   "outputs": [],
   "source": [
    "import requests"
   ]
  },
  {
   "cell_type": "code",
   "execution_count": 13,
   "id": "f4a7d9a9-4206-425d-868b-055d2a4993c7",
   "metadata": {},
   "outputs": [
    {
     "name": "stdout",
     "output_type": "stream",
     "text": [
      "Defaulting to user installation because normal site-packages is not writeable\n",
      "Requirement already satisfied: gtfs-realtime-bindings in /Users/simplypatrickg/.local/lib/python3.8/site-packages (0.0.7)\n",
      "Requirement already satisfied: setuptools in /Applications/JupyterLab.app/Contents/Resources/jlab_server/lib/python3.8/site-packages (from gtfs-realtime-bindings) (58.0.4)\n",
      "Requirement already satisfied: protobuf in /Users/simplypatrickg/.local/lib/python3.8/site-packages (from gtfs-realtime-bindings) (4.21.1)\n",
      "Defaulting to user installation because normal site-packages is not writeable\n",
      "Requirement already satisfied: protobuf3-to-dict in /Users/simplypatrickg/.local/lib/python3.8/site-packages (0.1.5)\n",
      "Requirement already satisfied: six in /Users/simplypatrickg/.local/lib/python3.8/site-packages (from protobuf3-to-dict) (1.15.0)\n",
      "Requirement already satisfied: protobuf>=2.3.0 in /Users/simplypatrickg/.local/lib/python3.8/site-packages (from protobuf3-to-dict) (4.21.1)\n",
      "Defaulting to user installation because normal site-packages is not writeable\n",
      "Requirement already satisfied: gtfs-realtime-bindings in /Users/simplypatrickg/.local/lib/python3.8/site-packages (0.0.7)\n",
      "Requirement already satisfied: protobuf in /Users/simplypatrickg/.local/lib/python3.8/site-packages (from gtfs-realtime-bindings) (4.21.1)\n",
      "Requirement already satisfied: setuptools in /Applications/JupyterLab.app/Contents/Resources/jlab_server/lib/python3.8/site-packages (from gtfs-realtime-bindings) (58.0.4)\n"
     ]
    }
   ],
   "source": [
    "!pip install --upgrade gtfs-realtime-bindings"
   ]
  },
  {
   "cell_type": "code",
   "execution_count": null,
   "id": "d31debba-b75f-4c64-9a5d-ccebb402e339",
   "metadata": {},
   "outputs": [],
   "source": [
    "appID = \"E0454BB2EA64AD6A937D30B6A\"\n",
    "trimet_veh_pos_url = f\"http://developer.trimet.org/ws/V1/VehiclePositions{appID}\"\n",
    "headers = {'content-type': 'application/json'}?locIDs=6849,6850&appID="
   ]
  },
  {
   "cell_type": "markdown",
   "id": "8d669e14-a81f-4274-9454-2594d5e12f2d",
   "metadata": {},
   "source": [
    "## Urls"
   ]
  },
  {
   "cell_type": "code",
   "execution_count": 2,
   "id": "a4aa2750-8028-40a2-9d67-eeb863500e3d",
   "metadata": {},
   "outputs": [],
   "source": [
    "# gtfs_schedule_url = \"https://ladotbus.com/gtfs\" # limited by rate\n",
    "ladot_vehicle_positions_url = \"https://ladotbus.com/gtfs-rt/vehiclepositions\"\n",
    "ladot_service_alerts_url = \"https://ladotbus.com/gtfs-rt/alerts\"\n",
    "ladot_trip_updates_url = \"https://ladotbus.com/gtfs-rt/tripupdates\""
   ]
  },
  {
   "cell_type": "code",
   "execution_count": 10,
   "id": "0d1f70b0-3f3e-421c-b63e-9a58a00854cb",
   "metadata": {},
   "outputs": [
    {
     "name": "stdout",
     "output_type": "stream",
     "text": [
      "{'Date': 'Mon, 06 Jun 2022 03:07:35 GMT', 'Content-Type': 'application/grtfeed', 'Access-Control-Allow-Origin': '*', 'Connection': 'close', 'Transfer-Encoding': 'chunked'}\n"
     ]
    }
   ],
   "source": [
    "requests.post(trimet_veh_pos_url, headers=headers"
   ]
  },
  {
   "cell_type": "code",
   "execution_count": null,
   "id": "462165c6-1881-4a26-9f3b-7df775f52f04",
   "metadata": {},
   "outputs": [],
   "source": []
  }
 ],
 "metadata": {
  "kernelspec": {
   "display_name": "Python 3 (ipykernel)",
   "language": "python",
   "name": "python3"
  },
  "language_info": {
   "codemirror_mode": {
    "name": "ipython",
    "version": 3
   },
   "file_extension": ".py",
   "mimetype": "text/x-python",
   "name": "python",
   "nbconvert_exporter": "python",
   "pygments_lexer": "ipython3",
   "version": "3.8.12"
  }
 },
 "nbformat": 4,
 "nbformat_minor": 5
}
