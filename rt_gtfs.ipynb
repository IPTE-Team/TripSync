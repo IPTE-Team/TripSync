{
 "cells": [
  {
   "cell_type": "markdown",
   "id": "e46201bf-dead-4b0f-b41d-cde9be29a63a",
   "metadata": {},
   "source": [
    "# LADOT GTFS Realtime Vehicle positions\n",
    "\n",
    "GTFS Realtime is a feed specification that allows public transportation agencies to provide realtime updates about their fleet to application developers. It is used globally by many transit agencies and is one of the widely adopted open data standards for public transportation industry.\n",
    "\n",
    "We will be exploring Vehicle Positions — APIs that provide information about the vehicles including location and congestion level in real time - from [LADOT (Los Angeles Department of Transportation)](https://www.ladotbus.com/)."
   ]
  },
  {
   "cell_type": "markdown",
   "id": "6f9406ed-47cd-4fe3-b11f-8be9c4076525",
   "metadata": {},
   "source": [
    "## Imports"
   ]
  },
  {
   "cell_type": "code",
   "execution_count": 84,
   "id": "f77d2113-c242-41b3-8b0c-3b8e709c540c",
   "metadata": {},
   "outputs": [],
   "source": [
    "from google.transit import gtfs_realtime_pb2\n",
    "from protobuf_to_dict import protobuf_to_dict\n",
    "import requests"
   ]
  },
  {
   "cell_type": "markdown",
   "id": "8d669e14-a81f-4274-9454-2594d5e12f2d",
   "metadata": {},
   "source": [
    "## Urls\n",
    "\n",
    "Urls from LADOT, we are specifically intereseted in the vehicle positions."
   ]
  },
  {
   "cell_type": "code",
   "execution_count": 32,
   "id": "a4aa2750-8028-40a2-9d67-eeb863500e3d",
   "metadata": {},
   "outputs": [],
   "source": [
    "# gtfs_schedule_url = \"https://ladotbus.com/gtfs\"\n",
    "ladot_vehicle_positions_url = \"https://ladotbus.com/gtfs-rt/vehiclepositions\"\n",
    "#ladot_service_alerts_url = \"https://ladotbus.com/gtfs-rt/alerts\"\n",
    "#ladot_trip_updates_url = \"https://ladotbus.com/gtfs-rt/tripupdates\""
   ]
  },
  {
   "cell_type": "markdown",
   "id": "2c840863-4e31-4d06-98d7-c5bd42ffee9b",
   "metadata": {},
   "source": [
    "## Request\n",
    "\n",
    "We will download a GTFS-realtime data feed from our URL, parsing it as a [FeedMessage (the root type of the GTFS-realtime schema)](https://developers.google.com/transit/gtfs-realtime/reference), and iterating over the results. Code snippet adapted from [Google Transit APIs](https://developers.google.com/transit/gtfs-realtime/examples/python-sample)"
   ]
  },
  {
   "cell_type": "code",
   "execution_count": 83,
   "id": "0d1f70b0-3f3e-421c-b63e-9a58a00854cb",
   "metadata": {},
   "outputs": [
    {
     "data": {
      "text/plain": [
       "id: \"vehicle_6771\"\n",
       "vehicle {\n",
       "  trip {\n",
       "    trip_id: \"30-N-wZH7vIqkW\"\n",
       "    start_time: \"20:15:00\"\n",
       "    start_date: \"20220605\"\n",
       "    direction_id: 1\n",
       "  }\n",
       "  position {\n",
       "    latitude: 34.122901916503906\n",
       "    longitude: -118.2969970703125\n",
       "    bearing: 353.76025390625\n",
       "    speed: 8.046719551086426\n",
       "  }\n",
       "  timestamp: 1654488862\n",
       "  vehicle {\n",
       "    id: \"6771\"\n",
       "    label: \"15344\"\n",
       "  }\n",
       "  occupancy_status: EMPTY\n",
       "}"
      ]
     },
     "execution_count": 83,
     "metadata": {},
     "output_type": "execute_result"
    }
   ],
   "source": [
    "# Get FeedMessage from url\n",
    "feed = gtfs_realtime_pb2.FeedMessage()\n",
    "response = requests.get(ladot_vehicle_positions_url)\n",
    "feed.ParseFromString(response.content)\n",
    "\n",
    "# Let's look at one entity\n",
    "feed.entity[0]    "
   ]
  },
  {
   "cell_type": "markdown",
   "id": "92c80376-8427-4093-879e-c191a24cda84",
   "metadata": {},
   "source": [
    "## Data\n",
    "\n",
    "Each entity contains the following information:\n",
    "\n",
    "- `id`\n",
    "- `vehicle`\n",
    "    - `trip`\n",
    "        - `trip_id`\n",
    "        - ` start_time`\n",
    "        - `start_date`\n",
    "        - `direction_id`\n",
    "    - `position`\n",
    "        - `latitude`\n",
    "        - `longitude`\n",
    "        - `bearing`\n",
    "        - `speed`\n",
    "    - `timestamp`\n",
    "    - `vehicle`\n",
    "        - `id`\n",
    "        - `label`\n",
    "    - `occupancy_status`"
   ]
  },
  {
   "cell_type": "markdown",
   "id": "00d100d6-7806-46b2-b6f9-f20e04f2b0b3",
   "metadata": {},
   "source": [
    "## Convert feed to dataframe\n",
    "\n",
    "We want to parse GTFS Real time Protobuf into more usable tabular format. Let's use a FOR LOOP to iterate over the nested dictionary structure and collect each rows and append & collect it in form of pandas dataframe."
   ]
  },
  {
   "cell_type": "code",
   "execution_count": null,
   "id": "af8875dc-a2b8-4e7b-8cb0-4a8bc1f4a222",
   "metadata": {},
   "outputs": [],
   "source": [
    "\n",
    "dict_obj = protobuf_to_dict(feed)"
   ]
  }
 ],
 "metadata": {
  "kernelspec": {
   "display_name": "venv",
   "language": "python",
   "name": "venv"
  },
  "language_info": {
   "codemirror_mode": {
    "name": "ipython",
    "version": 3
   },
   "file_extension": ".py",
   "mimetype": "text/x-python",
   "name": "python",
   "nbconvert_exporter": "python",
   "pygments_lexer": "ipython3",
   "version": "3.8.12"
  }
 },
 "nbformat": 4,
 "nbformat_minor": 5
}
