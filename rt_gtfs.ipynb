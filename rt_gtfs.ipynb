{
 "cells": [
  {
   "cell_type": "markdown",
   "id": "e46201bf-dead-4b0f-b41d-cde9be29a63a",
   "metadata": {},
   "source": [
    "# Realtime GTFS\n",
    "\n",
    "Requesting realtime gtfs data from LADOT (Los Angeles Department of Transportation)."
   ]
  },
  {
   "cell_type": "markdown",
   "id": "6f9406ed-47cd-4fe3-b11f-8be9c4076525",
   "metadata": {},
   "source": [
    "## Imports"
   ]
  },
  {
   "cell_type": "code",
   "execution_count": 1,
   "id": "f77d2113-c242-41b3-8b0c-3b8e709c540c",
   "metadata": {},
   "outputs": [],
   "source": [
    "import requests"
   ]
  },
  {
   "cell_type": "code",
   "execution_count": 12,
   "id": "f4a7d9a9-4206-425d-868b-055d2a4993c7",
   "metadata": {},
   "outputs": [
    {
     "name": "stdout",
     "output_type": "stream",
     "text": [
      "Defaulting to user installation because normal site-packages is not writeable\n",
      "Collecting gtfs-realtime-bindings\n",
      "  Downloading gtfs-realtime-bindings-0.0.7.zip (11 kB)\n",
      "Requirement already satisfied: setuptools in /Applications/JupyterLab.app/Contents/Resources/jlab_server/lib/python3.8/site-packages (from gtfs-realtime-bindings) (58.0.4)\n",
      "Collecting protobuf\n",
      "  Downloading protobuf-4.21.1-cp37-abi3-macosx_10_9_universal2.whl (483 kB)\n",
      "\u001b[K     |████████████████████████████████| 483 kB 2.0 MB/s eta 0:00:01\n",
      "\u001b[?25hBuilding wheels for collected packages: gtfs-realtime-bindings\n",
      "  Building wheel for gtfs-realtime-bindings (setup.py) ... \u001b[?25ldone\n",
      "\u001b[?25h  Created wheel for gtfs-realtime-bindings: filename=gtfs_realtime_bindings-0.0.7-py3-none-any.whl size=9831 sha256=f9c43a380f392d5fdfca877461a5c30879bcb268436535a1e616179d36a098db\n",
      "  Stored in directory: /Users/simplypatrickg/Library/Caches/pip/wheels/5f/10/1f/d7154916622bdbe4f0220ea075f6cd032df2503ebd89f00c85\n",
      "Successfully built gtfs-realtime-bindings\n",
      "Installing collected packages: protobuf, gtfs-realtime-bindings\n",
      "\u001b[31mERROR: pip's dependency resolver does not currently take into account all the packages that are installed. This behaviour is the source of the following dependency conflicts.\n",
      "tf-nightly 2.10.0.dev20220508 requires flatbuffers<2,>=1.12, which is not installed.\n",
      "tf-nightly 2.10.0.dev20220508 requires gast<=0.4.0,>=0.2.1, which is not installed.\n",
      "tf-nightly 2.10.0.dev20220508 requires grpcio<2.0,>=1.24.3, which is not installed.\n",
      "tf-nightly 2.10.0.dev20220508 requires h5py>=2.9.0, which is not installed.\n",
      "tf-nightly 2.10.0.dev20220508 requires tf-estimator-nightly~=2.10.0.dev, which is not installed.\n",
      "tf-nightly 2.10.0.dev20220508 requires typing-extensions>=3.6.6, which is not installed.\n",
      "tensorflow-metadata 1.7.0 requires googleapis-common-protos<2,>=1.52.0, which is not installed.\n",
      "tb-nightly 2.10.0a20220508 requires google-auth<3,>=1.6.3, which is not installed.\n",
      "tb-nightly 2.10.0a20220508 requires google-auth-oauthlib<0.5,>=0.4.1, which is not installed.\n",
      "tb-nightly 2.10.0a20220508 requires grpcio>=1.24.3, which is not installed.\n",
      "tb-nightly 2.10.0a20220508 requires markdown>=2.6.8, which is not installed.\n",
      "tensorflow-metadata 1.7.0 requires protobuf<4,>=3.13, but you have protobuf 4.21.1 which is incompatible.\u001b[0m\n",
      "Successfully installed gtfs-realtime-bindings-0.0.7 protobuf-4.21.1\n",
      "Defaulting to user installation because normal site-packages is not writeable\n",
      "Collecting protobuf3-to-dict\n",
      "  Downloading protobuf3-to-dict-0.1.5.tar.gz (3.5 kB)\n",
      "Requirement already satisfied: protobuf>=2.3.0 in /Users/simplypatrickg/.local/lib/python3.8/site-packages (from protobuf3-to-dict) (4.21.1)\n",
      "Requirement already satisfied: six in /Users/simplypatrickg/.local/lib/python3.8/site-packages (from protobuf3-to-dict) (1.15.0)\n",
      "Building wheels for collected packages: protobuf3-to-dict\n",
      "  Building wheel for protobuf3-to-dict (setup.py) ... \u001b[?25ldone\n",
      "\u001b[?25h  Created wheel for protobuf3-to-dict: filename=protobuf3_to_dict-0.1.5-py3-none-any.whl size=4029 sha256=a3d012c6f53dafde87c70f216e4407a2ecd70f7c4d9e1ae9a2d54bdb0084f631\n",
      "  Stored in directory: /Users/simplypatrickg/Library/Caches/pip/wheels/fc/10/27/2d1e23d8b9a9013a83fbb418a0b17b1e6f81c8db8f53b53934\n",
      "Successfully built protobuf3-to-dict\n",
      "Installing collected packages: protobuf3-to-dict\n",
      "Successfully installed protobuf3-to-dict-0.1.5\n"
     ]
    }
   ],
   "source": [
    "!pip install gtfs-realtime-bindings\n",
    "!pip3 install protobuf3-to-dict"
   ]
  },
  {
   "cell_type": "markdown",
   "id": "8d669e14-a81f-4274-9454-2594d5e12f2d",
   "metadata": {},
   "source": [
    "## Urls"
   ]
  },
  {
   "cell_type": "code",
   "execution_count": 2,
   "id": "a4aa2750-8028-40a2-9d67-eeb863500e3d",
   "metadata": {},
   "outputs": [],
   "source": [
    "# gtfs_schedule_url = \"https://ladotbus.com/gtfs\" # limited by rate\n",
    "ladot_vehicle_positions_url = \"https://ladotbus.com/gtfs-rt/vehiclepositions\"\n",
    "ladot_service_alerts_url = \"https://ladotbus.com/gtfs-rt/alerts\"\n",
    "ladot_trip_updates_url = \"https://ladotbus.com/gtfs-rt/tripupdates\""
   ]
  },
  {
   "cell_type": "code",
   "execution_count": 7,
   "id": "d31debba-b75f-4c64-9a5d-ccebb402e339",
   "metadata": {},
   "outputs": [],
   "source": [
    "appID = \"E0454BB2EA64AD6A937D30B6A\"\n",
    "trimet_veh_pos_url = f\"http://developer.trimet.org/ws/V1/VehiclePositions?locIDs=6849,6850&appID={appID}\"\n",
    "headers = {'content-type': 'application/json'}"
   ]
  },
  {
   "cell_type": "code",
   "execution_count": 10,
   "id": "0d1f70b0-3f3e-421c-b63e-9a58a00854cb",
   "metadata": {},
   "outputs": [
    {
     "name": "stdout",
     "output_type": "stream",
     "text": [
      "{'Date': 'Mon, 06 Jun 2022 03:07:35 GMT', 'Content-Type': 'application/grtfeed', 'Access-Control-Allow-Origin': '*', 'Connection': 'close', 'Transfer-Encoding': 'chunked'}\n"
     ]
    }
   ],
   "source": [
    "requests.post(trimet_veh_pos_url, headers=headers"
   ]
  },
  {
   "cell_type": "code",
   "execution_count": null,
   "id": "462165c6-1881-4a26-9f3b-7df775f52f04",
   "metadata": {},
   "outputs": [],
   "source": []
  }
 ],
 "metadata": {
  "kernelspec": {
   "display_name": "Python 3 (ipykernel)",
   "language": "python",
   "name": "python3"
  },
  "language_info": {
   "codemirror_mode": {
    "name": "ipython",
    "version": 3
   },
   "file_extension": ".py",
   "mimetype": "text/x-python",
   "name": "python",
   "nbconvert_exporter": "python",
   "pygments_lexer": "ipython3",
   "version": "3.8.12"
  }
 },
 "nbformat": 4,
 "nbformat_minor": 5
}
